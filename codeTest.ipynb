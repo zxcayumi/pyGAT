{
 "metadata": {
  "language_info": {
   "codemirror_mode": {
    "name": "ipython",
    "version": 3
   },
   "file_extension": ".py",
   "mimetype": "text/x-python",
   "name": "python",
   "nbconvert_exporter": "python",
   "pygments_lexer": "ipython3",
   "version": "3.8.5-final"
  },
  "orig_nbformat": 2,
  "kernelspec": {
   "name": "python3",
   "display_name": "Python 3.8.5 64-bit",
   "metadata": {
    "interpreter": {
     "hash": "6adda7993e9459e058bef9e06a9fc97c4e8c3a2a64541f8cf6ab4a9825973fd4"
    }
   }
  }
 },
 "nbformat": 4,
 "nbformat_minor": 2,
 "cells": [
  {
   "cell_type": "code",
   "execution_count": 6,
   "metadata": {},
   "outputs": [
    {
     "output_type": "execute_result",
     "data": {
      "text/plain": [
       "tensor([[-9.0000e+15],\n",
       "        [-9.0000e+15],\n",
       "        [-9.0000e+15],\n",
       "        [-9.0000e+15],\n",
       "        [-9.0000e+15],\n",
       "        [-9.0000e+15]])"
      ]
     },
     "metadata": {},
     "execution_count": 6
    }
   ],
   "source": [
    "import torch\n",
    "\n",
    "a = torch.empty(size=(6,1))\n",
    "-9e15*torch.ones_like(a)"
   ]
  },
  {
   "cell_type": "code",
   "execution_count": 4,
   "metadata": {},
   "outputs": [
    {
     "output_type": "stream",
     "name": "stdout",
     "text": [
      "tensor([[[1., 2., 1., 2.],\n         [1., 2., 3., 4.],\n         [1., 2., 5., 6.]],\n\n        [[3., 4., 1., 2.],\n         [3., 4., 3., 4.],\n         [3., 4., 5., 6.]],\n\n        [[5., 6., 1., 2.],\n         [5., 6., 3., 4.],\n         [5., 6., 5., 6.]]])\ntensor([[[0.6000],\n         [1.0000],\n         [1.4000]],\n\n        [[1.0000],\n         [1.4000],\n         [1.8000]],\n\n        [[1.4000],\n         [1.8000],\n         [2.2000]]])\ntensor([[0.6000, 1.0000, 1.4000],\n        [1.0000, 1.4000, 1.8000],\n        [1.4000, 1.8000, 2.2000]])\ntensor([[0.6000, 1.0000, 1.4000],\n        [1.0000, 1.4000, 1.8000],\n        [1.4000, 1.8000, 2.2000]])\n"
     ]
    }
   ],
   "source": [
    "import torch\n",
    "\n",
    "a = torch.Tensor([\n",
    "    [1,2],\n",
    "    [3,4],\n",
    "    [5,6]\n",
    "])\n",
    "\n",
    "# print(a.repeat(1,3)) #第0维大小乘以1（不变）；第1维大小乘以3（重复三遍）\n",
    "h1 = a.repeat(1,3).view(3*3,-1)\n",
    "# print(h1)\n",
    "h2 = a.repeat(3,1)\n",
    "# print(h2)\n",
    "# print(torch.cat([h1,h2], dim=1))\n",
    "h = torch.cat([h1,h2], dim=1).view(3,-1,4) #每个节点分别与其它节点（包括当前节点自身）特征拼接\n",
    "print(h)\n",
    "a = torch.Tensor([0.1,0.1,0.1,0.1]).view(4,1)\n",
    "result = torch.matmul(h,a)\n",
    "print(result)\n",
    "print(result.squeeze())\n",
    "\n",
    "#以下操作效果一样\n",
    "# h = torch.cat([h1,h2], dim=1) #每个节点分别与其它节点（包括当前节点自身）特征拼接\n",
    "# result = torch.matmul(h,a)\n",
    "# print(result.view(3,3))"
   ]
  },
  {
   "cell_type": "code",
   "execution_count": 12,
   "metadata": {},
   "outputs": [
    {
     "output_type": "execute_result",
     "data": {
      "text/plain": [
       "tensor([[1., 1., 1., 3., 3., 3., 5., 5., 5.],\n",
       "        [2., 2., 2., 4., 4., 4., 6., 6., 6.]])"
      ]
     },
     "metadata": {},
     "execution_count": 12
    }
   ],
   "source": [
    "import torch\n",
    "\n",
    "a = [\n",
    "    torch.Tensor([\n",
    "        [1,1,1],\n",
    "        [2,2,2]\n",
    "    ]),\n",
    "    torch.Tensor([\n",
    "        [3,3,3],\n",
    "        [4,4,4]\n",
    "    ]),\n",
    "    torch.Tensor([\n",
    "        [5,5,5],\n",
    "        [6,6,6]\n",
    "    ])\n",
    "]\n",
    "\n",
    "torch.cat(a,dim=1)"
   ]
  }
 ]
}